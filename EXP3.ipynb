{
 "cells": [
  {
   "cell_type": "code",
   "execution_count": null,
   "id": "5d8775da-e8b3-4b4e-9932-f29aa22ead8b",
   "metadata": {},
   "outputs": [],
   "source": [
    "EXPERIMENT 3"
   ]
  },
  {
   "cell_type": "code",
   "execution_count": null,
   "id": "fc03e5d2-f10b-4183-b39f-77e51784f51e",
   "metadata": {},
   "outputs": [],
   "source": [
    "if __name__ == '__main__':\n",
    "    with open('./file.txt', 'r') as file:\n",
    "        lines = file.readlines()\n",
    "        numberOfLines = len(lines)\n",
    "        numberOfWords = sum(len(line.split()) for line in lines)\n",
    "        \n",
    "        # Calculate the number of characters\n",
    "        numberOfCharacters = sum(len(line) for line in lines)\n",
    "        \n",
    "    print(f\"Lines: {numberOfLines}\")\n",
    "    print(f\"Words: {numberOfWords}\")\n",
    "    print(f\"Characters: {numberOfCharacters}\")\n"
   ]
  }
 ],
 "metadata": {
  "kernelspec": {
   "display_name": "Python [conda env:base] *",
   "language": "python",
   "name": "conda-base-py"
  },
  "language_info": {
   "codemirror_mode": {
    "name": "ipython",
    "version": 3
   },
   "file_extension": ".py",
   "mimetype": "text/x-python",
   "name": "python",
   "nbconvert_exporter": "python",
   "pygments_lexer": "ipython3",
   "version": "3.12.7"
  }
 },
 "nbformat": 4,
 "nbformat_minor": 5
}
