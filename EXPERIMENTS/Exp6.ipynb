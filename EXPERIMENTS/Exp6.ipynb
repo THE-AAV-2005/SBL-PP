{
 "cells": [
  {
   "cell_type": "markdown",
   "id": "2bfe63d9-4d5f-4bce-b84b-73727d0e057e",
   "metadata": {},
   "source": [
    "# Akshat Vyas (Roll No. 60)"
   ]
  },
  {
   "cell_type": "code",
   "execution_count": 37,
   "id": "609ae2e5-c02b-4d7c-8f91-b7494bfc98c3",
   "metadata": {},
   "outputs": [],
   "source": [
    "import sqlite3"
   ]
  },
  {
   "cell_type": "markdown",
   "id": "4fc335c0-0154-4c41-8db5-7a12996bf2ce",
   "metadata": {},
   "source": [
    "# Connecting to Database"
   ]
  },
  {
   "cell_type": "code",
   "execution_count": 39,
   "id": "9b522bb2-5208-4c35-b0ae-e3cafaa1154b",
   "metadata": {},
   "outputs": [],
   "source": [
    "connection = sqlite3.connect('./genericDatabase.db')\n",
    "cursor = connection.cursor()"
   ]
  },
  {
   "cell_type": "markdown",
   "id": "979e1d97-0089-4424-b936-099f04cb6197",
   "metadata": {},
   "source": [
    "# Create Table"
   ]
  },
  {
   "cell_type": "code",
   "execution_count": 41,
   "id": "e5249b08-6f39-490c-8501-250b5dc9e03d",
   "metadata": {},
   "outputs": [],
   "source": [
    "cursor.execute('''\n",
    "    CREATE TABLE IF NOT EXISTS students (\n",
    "        id INTEGER PRIMARY KEY AUTOINCREMENT,\n",
    "        name TEXT NOT NULL,\n",
    "        age INTEGER NOT NULL\n",
    "    )\n",
    "''')\n",
    "connection.commit()"
   ]
  },
  {
   "cell_type": "markdown",
   "id": "4ef380cf-7eb1-49ed-9de4-48a56d30f257",
   "metadata": {},
   "source": [
    "# CRUD Operations"
   ]
  },
  {
   "cell_type": "markdown",
   "id": "66705c27-e767-4792-9dba-1d847f7b599c",
   "metadata": {},
   "source": [
    "## Create (Insertion)"
   ]
  },
  {
   "cell_type": "code",
   "execution_count": 43,
   "id": "4f60fd5b-9a50-4a76-aab0-f475046872ed",
   "metadata": {},
   "outputs": [],
   "source": [
    "def create_student(name, age):\n",
    "    cursor.execute('''\n",
    "        INSERT INTO students (name, age) \n",
    "        VALUES (?, ?)\n",
    "    ''', (name, age))\n",
    "    connection.commit()\n",
    "    print(\"Record added successfully!\")"
   ]
  },
  {
   "cell_type": "code",
   "execution_count": 45,
   "id": "fede7064-3888-41be-af60-b5518763cdb9",
   "metadata": {},
   "outputs": [
    {
     "name": "stdout",
     "output_type": "stream",
     "text": [
      "Record added successfully!\n",
      "Record added successfully!\n"
     ]
    }
   ],
   "source": [
    "create_student(\"Griffith\", 20)\n",
    "create_student(\"Guts\", 22)"
   ]
  },
  {
   "cell_type": "markdown",
   "id": "45af5da0-11da-4d9e-926e-315ebad1b4bf",
   "metadata": {},
   "source": [
    "# Read (Retrieve)"
   ]
  },
  {
   "cell_type": "code",
   "execution_count": 47,
   "id": "53b9a12b-4778-4652-9b11-592e9b05db01",
   "metadata": {},
   "outputs": [
    {
     "name": "stdout",
     "output_type": "stream",
     "text": [
      "Student Records:\n",
      "(1, 'Griffith', 21)\n",
      "(3, 'Griffith', 20)\n",
      "(4, 'Guts', 22)\n",
      "(5, 'Griffith', 20)\n",
      "(6, 'Guts', 22)\n"
     ]
    }
   ],
   "source": [
    "def read_students():\n",
    "    cursor.execute('SELECT * FROM students')\n",
    "    rows = cursor.fetchall()\n",
    "    print(\"Student Records:\")\n",
    "    for row in rows:\n",
    "        print(row)\n",
    "\n",
    "read_students()"
   ]
  },
  {
   "cell_type": "markdown",
   "id": "58ae5e73-d1c5-404e-bd10-e6c7e3fc452e",
   "metadata": {},
   "source": [
    "# Update"
   ]
  },
  {
   "cell_type": "code",
   "execution_count": 21,
   "id": "e5bc183a-0d24-4bd1-aaef-7117c127aa15",
   "metadata": {},
   "outputs": [
    {
     "name": "stdout",
     "output_type": "stream",
     "text": [
      "Student age updated successfully!\n",
      "Student Records:\n",
      "(1, 'Griffith', 21)\n",
      "(3, 'Griffith', 20)\n",
      "(4, 'Guts', 22)\n"
     ]
    }
   ],
   "source": [
    "def update_student_age(student_id, new_age):\n",
    "    cursor.execute('''\n",
    "        UPDATE students\n",
    "        SET age = ?\n",
    "        WHERE id = ?\n",
    "    ''', (new_age, student_id))\n",
    "    connection.commit()\n",
    "    print(\"Student age updated successfully!\")\n",
    "\n",
    "update_student_age(1, 21)  # Updating Griffith's age to 21\n",
    "read_students()"
   ]
  },
  {
   "cell_type": "markdown",
   "id": "ab559cc7-27cd-4f96-81a2-48d04ee67a31",
   "metadata": {},
   "source": [
    "# Delete"
   ]
  },
  {
   "cell_type": "code",
   "execution_count": 49,
   "id": "bc944b50-c996-456f-a01a-611a311c425e",
   "metadata": {},
   "outputs": [
    {
     "name": "stdout",
     "output_type": "stream",
     "text": [
      "Student deleted successfully!\n",
      "Student Records:\n",
      "(1, 'Griffith', 21)\n",
      "(3, 'Griffith', 20)\n",
      "(4, 'Guts', 22)\n",
      "(5, 'Griffith', 20)\n",
      "(6, 'Guts', 22)\n"
     ]
    }
   ],
   "source": [
    "def delete_student(student_id):\n",
    "    cursor.execute('''\n",
    "        DELETE FROM students\n",
    "        WHERE id = ?\n",
    "    ''', (student_id,))\n",
    "    connection.commit()\n",
    "    print(\"Student deleted successfully!\")\n",
    "\n",
    "delete_student(2)  # Deleting Guts's record\n",
    "read_students()"
   ]
  },
  {
   "cell_type": "markdown",
   "id": "2e544c51-6564-485e-9965-b83b0373e747",
   "metadata": {},
   "source": [
    "# Closing the database connection"
   ]
  },
  {
   "cell_type": "code",
   "execution_count": 51,
   "id": "5db61c42-99a1-4d23-8de8-6c0136b259db",
   "metadata": {},
   "outputs": [],
   "source": [
    "connection.close()"
   ]
  },
  {
   "cell_type": "code",
   "execution_count": null,
   "id": "da4a6d85-0472-4137-adbc-0c6f376a5f30",
   "metadata": {},
   "outputs": [],
   "source": []
  }
 ],
 "metadata": {
  "kernelspec": {
   "display_name": "Python [conda env:base] *",
   "language": "python",
   "name": "conda-base-py"
  },
  "language_info": {
   "codemirror_mode": {
    "name": "ipython",
    "version": 3
   },
   "file_extension": ".py",
   "mimetype": "text/x-python",
   "name": "python",
   "nbconvert_exporter": "python",
   "pygments_lexer": "ipython3",
   "version": "3.12.7"
  }
 },
 "nbformat": 4,
 "nbformat_minor": 5
}
